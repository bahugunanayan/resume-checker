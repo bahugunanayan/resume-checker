{
 "cells": [
  {
   "cell_type": "code",
   "execution_count": 1,
   "id": "23976284",
   "metadata": {},
   "outputs": [],
   "source": [
    "pip install pdfminer"
   ]
  },
  {
   "cell_type": "code",
   "execution_count": null,
   "id": "01592936",
   "metadata": {},
   "outputs": [],
   "source": [
    "pip install docx2txt"
   ]
  },
  {
   "cell_type": "code",
   "execution_count": 1,
   "id": "d9bb56eb",
   "metadata": {},
   "outputs": [],
   "source": [
    "import io"
   ]
  },
  {
   "cell_type": "code",
   "execution_count": 2,
   "id": "f1680588",
   "metadata": {},
   "outputs": [],
   "source": [
    "from pdfminer.converter import TextConverter\n",
    "from pdfminer.pdfinterp import PDFPageInterpreter\n",
    "from pdfminer.pdfinterp import PDFResourceManager\n",
    "from pdfminer.pdfpage import PDFPage\n",
    "#Docx resume\n",
    "import docx2txt\n",
    "#Wordcloud\n",
    "import re\n",
    "import operator\n",
    "from nltk.tokenize import word_tokenize \n",
    "from nltk.corpus import stopwords\n",
    "set(stopwords.words('english'))\n",
    "from wordcloud import WordCloud\n",
    "from nltk.probability import FreqDist\n",
    "import matplotlib.pyplot as plt\n",
    "from sklearn.feature_extraction.text import CountVectorizer\n",
    "from sklearn.metrics.pairwise import cosine_similarity"
   ]
  },
  {
   "cell_type": "code",
   "execution_count": 3,
   "id": "b2269011",
   "metadata": {},
   "outputs": [],
   "source": [
    "def read_pdf_resume(pdf_doc):\n",
    "    resource_manager = PDFResourceManager()\n",
    "    fake_file_handle = io.StringIO()\n",
    "    converter = TextConverter(resource_manager, fake_file_handle)\n",
    "    page_interpreter = PDFPageInterpreter(resource_manager, converter)\n",
    "    with open(pdf_doc, 'rb') as fh:\n",
    "        for page in PDFPage.get_pages(fh, caching=True,check_extractable=True):           \n",
    "            page_interpreter.process_page(page)     \n",
    "        text = fake_file_handle.getvalue() \n",
    "    # close open handles      \n",
    "    converter.close() \n",
    "    fake_file_handle.close() \n",
    "    if text:     \n",
    "        return text"
   ]
  },
  {
   "cell_type": "code",
   "execution_count": 4,
   "id": "9f6af621",
   "metadata": {},
   "outputs": [],
   "source": [
    "def clean_job_decsription(jd):\n",
    "     ''' a function to create a word cloud based on the input text parameter'''\n",
    "     ## Clean the Text\n",
    "     # Lower\n",
    "     clean_jd = jd.lower()\n",
    "     # remove punctuation\n",
    "     clean_jd = re.sub(r'[^\\w\\s]', '', clean_jd)\n",
    "     # remove trailing spaces\n",
    "     clean_jd = clean_jd.strip()\n",
    "     # remove numbers\n",
    "     clean_jd = re.sub('[0-9]+', '', clean_jd)\n",
    "     # tokenize \n",
    "     clean_jd = word_tokenize(clean_jd)\n",
    "     # remove stop words\n",
    "     stop = stopwords.words('english')\n",
    "     clean_jd = [w for w in clean_jd if not w in stop] \n",
    "     return(clean_jd)"
   ]
  },
  {
   "cell_type": "code",
   "execution_count": 5,
   "id": "c62936b6",
   "metadata": {},
   "outputs": [],
   "source": [
    "def create_word_cloud(jd):\n",
    "    corpus = jd\n",
    "    fdist = FreqDist(corpus)\n",
    "    #print(fdist.most_common(100))\n",
    "    words = ' '.join(corpus)\n",
    "    words = words.split()\n",
    "     \n",
    "     # create a empty dictionary  \n",
    "    data = dict() \n",
    "    #  Get frequency for each words where word is the key and the count is the value  \n",
    "    for word in (words):     \n",
    "        word = word.lower()     \n",
    "        data[word] = data.get(word, 0) + 1 \n",
    "    # Sort the dictionary in reverse order to print first the most used terms\n",
    "    dict(sorted(data.items(), key=operator.itemgetter(1),reverse=True)) \n",
    "    word_cloud = WordCloud(width = 800, height = 800, \n",
    "    background_color ='white',max_words = 500) \n",
    "    word_cloud.generate_from_frequencies(data) \n",
    "    \n",
    "    # plot the WordCloud image\n",
    "    plt.figure(figsize = (10, 8), edgecolor = 'k')\n",
    "    plt.imshow(word_cloud,interpolation = 'bilinear')\n",
    "    plt.axis(\"off\")\n",
    "    plt.tight_layout(pad = 0)\n",
    "    plt.show()"
   ]
  },
  {
   "cell_type": "code",
   "execution_count": 6,
   "id": "6d307328",
   "metadata": {},
   "outputs": [],
   "source": [
    "def get_resume_score(text):\n",
    "    cv = CountVectorizer(stop_words='english')\n",
    "    count_matrix = cv.fit_transform(text)\n",
    "    #Print the similarity scores\n",
    "    print(\"\\nSimilarity Scores:\")\n",
    "     \n",
    "    #get the match percentage\n",
    "    matchPercentage = cosine_similarity(count_matrix)[0][1] * 100\n",
    "    matchPercentage = round(matchPercentage, 2) # round to two decimal\n",
    "     \n",
    "    print(\"Your resume matches about \"+ str(matchPercentage)+ \"% of the job description.\")"
   ]
  },
  {
   "cell_type": "code",
   "execution_count": 12,
   "id": "1c53330e",
   "metadata": {},
   "outputs": [
    {
     "name": "stdout",
     "output_type": "stream",
     "text": [
      "\n",
      "Enter the Job Description: python\n"
     ]
    },
    {
     "data": {
      "image/png": "[encoded data removed]",
      "text/plain": [
       "<Figure size 720x576 with 1 Axes>"
      ]
     },
     "metadata": {
      "needs_background": "light"
     },
     "output_type": "display_data"
    },
    {
     "name": "stdout",
     "output_type": "stream",
     "text": [
      "\n",
      "Similarity Scores:\n",
      "Your resume matches about 12.15% of the job description.\n"
     ]
    }
   ],
   "source": [
    "resume = read_pdf_resume('Resume.pdf')\n",
    "job_description = input(\"\\nEnter the Job Description: \")\n",
    "## Get a Keywords Cloud\n",
    "clean_jd = clean_job_decsription(job_description)\n",
    "create_word_cloud(clean_jd)\n",
    "text = [resume, job_description]\n",
    "## Get a Match\n",
    "get_resume_score(text)"
   ]
  },
  {
   "cell_type": "code",
   "execution_count": 16,
   "id": "47cccf06",
   "metadata": {},
   "outputs": [],
   "source": [
    "def get_resume_score(text):\n",
    "    cv = CountVectorizer(stop_words='english')\n",
    "    count_matrix = cv.fit_transform(text)\n",
    "    #Print the similarity scores\n",
    "    print(\"\\nSimilarity Scores:\")\n",
    "     \n",
    "    #get the match percentage\n",
    "    matchPercentage = cosine_similarity(count_matrix)[0][1] * 100\n",
    "    matchPercentage = round(matchPercentage, 2) # round to two decimal\n",
    "     \n",
    "    print(\"Your resume matches about \"+ str(matchPercentage)+ \"% of the job description.\")"
   ]
  },
  {
   "cell_type": "code",
   "execution_count": 18,
   "id": "2e63c754",
   "metadata": {},
   "outputs": [
    {
     "name": "stdout",
     "output_type": "stream",
     "text": [
      "\n",
      "Similarity Scores:\n",
      "Your resumes matches about 54.6% from each other.\n"
     ]
    }
   ],
   "source": [
    "#compare resume\n",
    "resume1 = read_pdf_resume('Resume.pdf')\n",
    "resume2 = read_pdf_resume('Resume (6).pdf')\n",
    "text = [resume1, resume2]\n",
    "cv = CountVectorizer(stop_words='english')\n",
    "count_matrix = cv.fit_transform(text)\n",
    "print(\"\\nSimilarity Scores:\")\n",
    "matchPercentage = cosine_similarity(count_matrix)[0][1] * 100\n",
    "matchPercentage = round(matchPercentage, 2) # round to two decimal   \n",
    "print(\"Your resumes matches about \"+ str(matchPercentage)+ \"% from each other.\")"
   ]
  },
  {
   "cell_type": "code",
   "execution_count": null,
   "id": "6c5ae1e2",
   "metadata": {},
   "outputs": [],
   "source": []
  }
 ],
 "metadata": {
  "kernelspec": {
   "display_name": "Python 3 (ipykernel)",
   "language": "python",
   "name": "python3"
  },
  "language_info": {
   "codemirror_mode": {
    "name": "ipython",
    "version": 3
   },
   "file_extension": ".py",
   "mimetype": "text/x-python",
   "name": "python",
   "nbconvert_exporter": "python",
   "pygments_lexer": "ipython3",
   "version": "3.9.7"
  }
 },
 "nbformat": 4,
 "nbformat_minor": 5
}
